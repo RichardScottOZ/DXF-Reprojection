{
 "cells": [
  {
   "cell_type": "code",
   "execution_count": null,
   "id": "e41933b4",
   "metadata": {},
   "outputs": [],
   "source": [
    "import os\n",
    "import shutil\n",
    "import geopandas as gpd\n",
    "import pandas as pd\n",
    "from tqdm import tqdm\n",
    "from copy import deepcopy\n",
    "\n",
    "from pyproj import Transformer, CRS\n",
    "set_crs_20254 = \"epsg:20254\"\n",
    "epsgstring = \"EPSG:28354\"\n",
    "suffix = epsgstring.split(':')[-1]\n",
    "\n",
    "transformer = Transformer.from_crs(golemepsgstring, set_crs_20254)\n",
    "transformer = Transformer.from_crs(set_crs_20254, golemepsgstring)"
   ]
  },
  {
   "cell_type": "markdown",
   "id": "f455b95c",
   "metadata": {},
   "source": [
    "## Changing DXF Coordinates"
   ]
  },
  {
   "cell_type": "markdown",
   "id": "ccec47cf",
   "metadata": {},
   "source": [
    "Basically, taking a DXF as text file approach.\n",
    "\n",
    "Parse it, find coordinate sets, reproject the X and Y, rewrite file.\n",
    "\n",
    "This is fine if not too many of them, if they have millions of coordinates, will want to do a vectorised/parallelised version."
   ]
  },
  {
   "cell_type": "markdown",
   "id": "1b53e277",
   "metadata": {},
   "source": [
    "## Details"
   ]
  },
  {
   "cell_type": "markdown",
   "id": "9ea4fb1b",
   "metadata": {},
   "source": [
    "As with any parsing problem, you need to find the areas of interest and how to demarcate them.\n",
    "\n",
    "In the example I was using, you have AcDbFace and 3DFACE for example.  If in a parsing job you see ENDSEC in a file - good chance that sort of notation will be helpful, too.\n",
    "\n",
    "Read the file into a dataframe, take advantage of the index to build a dictionary of the coordinate relevant parts.\n",
    "\n",
    "Make a new dictionary with updated coordinates, use that to replace the lines in the original file and write out."
   ]
  },
  {
   "cell_type": "code",
   "execution_count": null,
   "id": "4a404562",
   "metadata": {},
   "outputs": [],
   "source": [
    "basedir = r'projectdir'\n",
    "outdir = r'output'\n",
    "\n",
    "donelist = []  #if multiple runs with some big ones finished already, etc.\n",
    "\n",
    "for root, dirs, files in os.walk(basedir):\n",
    "    for file in files:\n",
    "        print(\"processing: \", file)\n",
    "        if 'dxf' in file and file not in donelist:\n",
    "            with open(os.path.join(root,file)) as f:\n",
    "                lines = f.readlines()            \n",
    "                df = pd.DataFrame()\n",
    "                df['dxf'] = lines\n",
    "                acdb = df.loc[df.dxf.str.contains('AcDbFace')]\n",
    "                threed = df.loc[df.dxf.str.contains('3DFACE')]\n",
    "                \n",
    "                acdbindex = acdb.index.tolist()\n",
    "                threedindex = threed.index.tolist()                \n",
    "                print(df.shape, acdb.shape, threed.shape)  #check this is making sense\n",
    "                \n",
    "                flag = False\n",
    "                polygondict = {}\n",
    "                for index, row in tqdm(df.iterrows(), total = df.shape[0]):\n",
    "                    if index in acdbindex:\n",
    "                        acdbidx = index\n",
    "                        flag = True\n",
    "                        polygondict[acdbidx] = []\n",
    "                    if index in threedindex or 'ENDSEC' in row['dxf']:\n",
    "                        flag = False\n",
    "                    if flag == True:\n",
    "                        polygondict[acdbidx].append(row['dxf'])\n",
    "                        \n",
    "                polygondict_new = deepcopy(polygondict)\n",
    "\n",
    "                for key in polygondict:\n",
    "                    if 'AcDbFace\\n' not in polygondict[key]:\n",
    "                        continue\n",
    "                        \n",
    "                    coords_len = len(polygondict[key]) // 6\n",
    "                    for c in range(coords_len ):\n",
    "                        x = polygondict[key][c*6 + 2]\n",
    "                        y = polygondict[key][c*6 + 4]\n",
    "                        z = polygondict[key][c*6 + 6]\n",
    "                        xnum = x.strip()\n",
    "                        ynum = y.strip()\n",
    "                        znum = z.strip()\n",
    "                        origin28354 = transformer.transform(xnum, ynum)\n",
    "\n",
    "                        polygondict_new[key][c*6 + 2] = str(origin28354[0]) + \"\\n\"\n",
    "                        polygondict_new[key][c*6 + 4] = str(origin28354[1]) + \"\\n\"\n",
    "                        \n",
    "                linesnew = deepcopy(lines)\n",
    "                for key in polygondict_new:\n",
    "                    for i, pdata in enumerate(polygondict_new[key]):\n",
    "                        linesnew[key + i] = polygondict_new[key][i]                        \n",
    "                    \n",
    "                newfile = file.replace('.dxf','_' + suffix + '.dxf')\n",
    "                with open(outdir + newfile,'w') as f:\n",
    "                    for l in linesnew:\n",
    "                        f.write(l)                    \n"
   ]
  }
 ],
 "metadata": {
  "kernelspec": {
   "display_name": "Python [conda env:pangeo3] *",
   "language": "python",
   "name": "conda-env-pangeo3-py"
  },
  "language_info": {
   "codemirror_mode": {
    "name": "ipython",
    "version": 3
   },
   "file_extension": ".py",
   "mimetype": "text/x-python",
   "name": "python",
   "nbconvert_exporter": "python",
   "pygments_lexer": "ipython3",
   "version": "3.8.6"
  }
 },
 "nbformat": 4,
 "nbformat_minor": 5
}
